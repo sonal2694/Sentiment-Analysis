{
 "cells": [
  {
   "cell_type": "code",
   "execution_count": 1,
   "metadata": {},
   "outputs": [],
   "source": [
    "# importing the requests library\n",
    "import requests\n",
    "from langdetect import detect\n",
    "from googletrans import Translator\n",
    "import json\n",
    "import os\n",
    "import io\n",
    "import emoji"
   ]
  },
  {
   "cell_type": "code",
   "execution_count": 2,
   "metadata": {},
   "outputs": [],
   "source": [
    "# defining the api-endpoint \n",
    "API_URL = 'http://text-processing.com/api/sentiment/'"
   ]
  },
  {
   "cell_type": "code",
   "execution_count": 3,
   "metadata": {},
   "outputs": [],
   "source": [
    "def get_sentiment_score(raw_tweet):\n",
    "    print (\"get_sentiment\")\n",
    "    full_text = raw_tweet['full_text']\n",
    "    print(full_text)\n",
    "    allchars = [str for str in full_text]\n",
    "    emoji_list = [c for c in allchars if c in emoji.UNICODE_EMOJI]\n",
    "    text = ' '.join([str for str in full_text.split() if not any(i in str for i in emoji_list)])\n",
    "    print(text)\n",
    "    \n",
    "    language = detect(text)\n",
    "    if(language != 'en'):\n",
    "        translator = Translator()\n",
    "        response = translator.translate(text)\n",
    "\n",
    "    data = { \"text\": text }\n",
    "\n",
    "    response = requests.post(url = API_URL, data = data)\n",
    "    result = response.json()\n",
    "#     print(result)\n",
    "    return result"
   ]
  },
  {
   "cell_type": "code",
   "execution_count": 4,
   "metadata": {},
   "outputs": [],
   "source": [
    "def get_raw_tweets_from_file(file_name):\n",
    "    print (\"get_raw_tweets_from_file\")\n",
    "    with open(file_name, mode='r', encoding='utf-8') as tweets_json:\n",
    "        current_tweets = json.load(tweets_json)\n",
    "        return current_tweets"
   ]
  },
  {
   "cell_type": "code",
   "execution_count": 5,
   "metadata": {},
   "outputs": [],
   "source": [
    "def process_tweet(raw_tweet):\n",
    "    print (\"process_tweet\")\n",
    "    raw_tweet['sentiment'] = get_sentiment_score(raw_tweet)\n",
    "    return raw_tweet"
   ]
  },
  {
   "cell_type": "code",
   "execution_count": 6,
   "metadata": {},
   "outputs": [],
   "source": [
    "def create_file(new_file, tweet_array):\n",
    "    print (\"create_file\")\n",
    "    # create file \n",
    "    if not os.path.exists(new_file):\n",
    "        open(new_file, 'w+').close()\n",
    "        with open(new_file, mode='w', encoding='utf-8') as f:\n",
    "            json.dump([], f)\n",
    "    \n",
    "    # append to file\n",
    "    with open(new_file, mode='r', encoding='utf-8') as tweets_json:\n",
    "        current_tweets = json.load(tweets_json)\n",
    "        \n",
    "    with open(new_file, mode='w', encoding='utf-8') as tweets_json:\n",
    "        current_tweets = current_tweets + tweet_array\n",
    "        json.dump(current_tweets, tweets_json)"
   ]
  },
  {
   "cell_type": "code",
   "execution_count": 7,
   "metadata": {},
   "outputs": [],
   "source": [
    "def process_file(input_file_path, output_file_path):\n",
    "    print('process_file')\n",
    "    tweets = get_raw_tweets_from_file(input_file_path)\n",
    "    processed_tweets = []\n",
    "    for tweet in tweets:\n",
    "        processed_tweets.append(process_tweet(tweet))\n",
    "    create_file(output_file_path, processed_tweets)"
   ]
  },
  {
   "cell_type": "code",
   "execution_count": 8,
   "metadata": {},
   "outputs": [],
   "source": [
    "def process_all_files(root_path):\n",
    "    print('process_all_file')\n",
    "    for root, dirs, files in os.walk(root_path):\n",
    "        for file in files:\n",
    "            input_file_path = root + '/' + file\n",
    "            output_filename = file.replace('.json','_new.json')\n",
    "            output_file_path = root + '/' + output_filename\n",
    "            try:\n",
    "                process_file(input_file_path, output_file_path)\n",
    "                print('Successfully processed: ' + output_file_path)\n",
    "            except:\n",
    "                print('Error caused by:')\n",
    "                print('File Name: ' + file)\n",
    "                print('File Path: ' + output_file_path)\n",
    "            print(\" \")"
   ]
  },
  {
   "cell_type": "code",
   "execution_count": 9,
   "metadata": {},
   "outputs": [
    {
     "name": "stdout",
     "output_type": "stream",
     "text": [
      "process_all_file\n",
      "process_file\n",
      "get_raw_tweets_from_file\n",
      "Error caused by:\n",
      "File Name: .DS_Store\n",
      "File Path: /Users/sonalsingh/MSCS/1stSEM/IR/Projects/Project4/dev/Tweets/.DS_Store\n",
      " \n",
      "process_file\n",
      "get_raw_tweets_from_file\n",
      "process_tweet\n",
      "get_sentiment\n",
      "प्रदूषण से कराहती दिल्ली के लिए क्या किया केजरीवाल सरकार ने…? https://t.co/BLuZQdIa55\n",
      "process_tweet\n",
      "get_sentiment\n",
      "\"दिल्ली का दबंग\" - my weekly video blog at @MyNation ना नई बसें आई ना एयर प्यूरिफायर ना मेकेनाइज्ड क्लीनिंग हुई ना पॉल्युशन फ्री दिल्ली https://t.co/Yf4qmPQvLz\n",
      "process_tweet\n",
      "get_sentiment\n",
      "@KapilMishra_IND | दिल्ली में प्रदूषण की समस्या दिनों दिन विकराल होती जा रही है। स्मॉग से लोगों का दम घुटता है। क्या है इस समस्या की वजह और कैसे दूर होगी ये दिक्कत, अपने वीडियो ब्लॉग दिल्ली के दबंग के जरिए माय नेशन पर, बता रहे हैं विधायक कपिल मिश्रा #Delhi https://t.co/SmDS7WrlDS\n",
      "process_tweet\n",
      "get_sentiment\n",
      "प्रदूषण से कराहती दिल्ली के लिए क्या किया केजरीवाल सरकार ने…? https://t.co/5eZFBGW8Xt\n",
      "process_tweet\n",
      "get_sentiment\n",
      "प्रदूषण से कराहती दिल्ली के लिए क्या किया @ArvindKejriwal की सरकार ने ध्वनि प्रदूषण, वायु प्रदूषण के कारण दिल्ली के लोग बेहाल हैं आखि़र दिल्ली की सरकार कब तक जनता की परेशानी को अनदेखा करती रहेगी @KapilMishra_IND https://t.co/cVq2LMC1iB\n",
      "process_tweet\n",
      "get_sentiment\n",
      "दिल्ली के दबंग @KapilMishra_IND का केजरीवाल सरकार पर प्रहार फिर एक बार https://t.co/AF5mXfhj1c\n",
      "process_tweet\n",
      "get_sentiment\n",
      "दिल्ली में प्रदूषण की समस्या दिनों दिन विकराल होती जा रही है। स्मॉग से लोगों का दम घुटता है। क्या है इस समस्या की वजह और कैसे दूर होगी ये दिक्कत, अपने वीडियो ब्लॉग दिल्ली के दबंग के जरिए माय नेशन पर, बता रहे हैं विधायक कपिल मिश्रा… @KapilMishra_IND #Delhi https://t.co/e6vPdr2dVJ\n",
      "process_tweet\n",
      "get_sentiment\n",
      "प्रदूषण से कराहती दिल्ली के लिए क्या किया केजरीवाल सरकार ने…? https://t.co/06VHVxJOlB\n",
      "process_tweet\n",
      "get_sentiment\n",
      "\"दिल्ली का दबंग\" - video blog at @MyNation ना नई बसें आई ना एयर प्यूरिफायर ना मेकेनाइज्ड क्लीनिंग हुई ना पॉल्युशन फ्री दिल्ली https://t.co/e6vPdr2dVJ @KapilMishra_IND @KapilMishra_IND\n",
      "process_tweet\n",
      "get_sentiment\n",
      "प्रदूषण से कराहती दिल्ली के लिए क्या किया @ArvindKejriwal सरकार ने…? देखिए @KapilMishra_IND भाई जी की जुबानी https://t.co/5j3ykDFrLJ\n",
      "process_tweet\n",
      "get_sentiment\n",
      "\"दिल्ली का दबंग\" - my weekly video blog at @MyNation ना नई बसें आई ना एयर प्यूरिफायर ना मेकेनाइज्ड क्लीनिंग हुई ना पॉल्युशन फ्री दिल्ली https://t.co/BefqTNZDMK\n",
      "process_tweet\n",
      "get_sentiment\n",
      "दिल्ली में प्रदूषण की समस्या दिनों दिन विकराल होती जा रही है। स्मॉग से लोगों का दम घुटता है। क्या है इस समस्या की वजह और कैसे दूर होगी ये दिक्कत, अपने वीडियो ब्लॉग दिल्ली के दबंग के जरिए माय नेशन पर, बता रहे हैं विधायक कपिल मिश्रा… @KapilMishra_IND #Delhi https://t.co/A20ABO6Zht\n",
      "create_file\n",
      "Successfully processed: /Users/sonalsingh/MSCS/1stSEM/IR/Projects/Project4/dev/Tweets/delhi_environment_smogHI_processed_new.json\n",
      " \n"
     ]
    }
   ],
   "source": [
    "ROOT_PATH = '/Users/sonalsingh/MSCS/1stSEM/IR/Projects/Project4/dev/Tweets'\n",
    "process_all_files(ROOT_PATH)"
   ]
  },
  {
   "cell_type": "code",
   "execution_count": null,
   "metadata": {},
   "outputs": [],
   "source": []
  },
  {
   "cell_type": "code",
   "execution_count": null,
   "metadata": {},
   "outputs": [],
   "source": []
  }
 ],
 "metadata": {
  "kernelspec": {
   "display_name": "Python 3",
   "language": "python",
   "name": "python3"
  },
  "language_info": {
   "codemirror_mode": {
    "name": "ipython",
    "version": 3
   },
   "file_extension": ".py",
   "mimetype": "text/x-python",
   "name": "python",
   "nbconvert_exporter": "python",
   "pygments_lexer": "ipython3",
   "version": "3.7.1"
  }
 },
 "nbformat": 4,
 "nbformat_minor": 2
}
